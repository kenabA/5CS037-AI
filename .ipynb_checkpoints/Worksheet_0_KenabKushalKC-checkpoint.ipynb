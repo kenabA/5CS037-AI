{
 "cells": [
  {
   "cell_type": "markdown",
   "id": "de125c49-f17a-4f9e-ae31-32247c321f1c",
   "metadata": {
    "jp-MarkdownHeadingCollapsed": true
   },
   "source": [
    "# Revising Fundamentals "
   ]
  },
  {
   "cell_type": "code",
   "execution_count": 3,
   "id": "ba02b022-220f-43d4-881e-949583abcb1e",
   "metadata": {},
   "outputs": [
    {
     "name": "stdout",
     "output_type": "stream",
     "text": [
      "Hello, World!\n",
      "Python version: 3.11.1 (v3.11.1:a7a450f84a, Dec  6 2022, 15:24:06) [Clang 13.0.0 (clang-1300.0.29.30)]\n"
     ]
    }
   ],
   "source": [
    "import sys\n",
    "# Check Python version\n",
    "if sys.version_info.major == 3 and sys.version_info.minor >= 6:\n",
    "    print(\"Hello, World!\")\n",
    "    print(f\"Python version: {sys.version}\")\n",
    "else:\n",
    "    print(\"Please use Python 3.6 or higher.\")"
   ]
  },
  {
   "cell_type": "code",
   "execution_count": 10,
   "id": "c410f76e-b59d-4a25-a25c-291077b031ec",
   "metadata": {},
   "outputs": [
    {
     "name": "stdout",
     "output_type": "stream",
     "text": [
      "data type of variable age =  <class 'int'>\n",
      "data type of variable pi =  <class 'float'>\n",
      "data type of variable temperature =  <class 'float'>\n"
     ]
    }
   ],
   "source": [
    "#int\n",
    "age = 23 \n",
    "#float\n",
    "pi = 3.12\n",
    "#float\n",
    "temperature = -5.5 \n",
    "print(\"data type of variable age = \", type(age))\n",
    "print(\"data type of variable pi = \", type(pi))\n",
    "print(\"data type of variable temperature = \", type(temperature))"
   ]
  },
  {
   "cell_type": "code",
   "execution_count": 12,
   "id": "acfaf2c4-9e7e-44d3-99c6-bd32657195cf",
   "metadata": {},
   "outputs": [
    {
     "name": "stdout",
     "output_type": "stream",
     "text": [
      "data type of the variable name =  <class 'str'>\n",
      "data type of the variable greeting =  <class 'str'>\n",
      "data type of the variable address =  <class 'str'>\n",
      "The first letter of the name is: A\n",
      "The last letter of the name is: e\n",
      "The second letter to the fourth of the name is: lic\n",
      "The first two letters of the name are: Al\n",
      "Substring starting from the third letter is: ice\n"
     ]
    }
   ],
   "source": [
    "name = \"Alice\"\n",
    "greeting = \"Hello\"\n",
    "address = \"123 Main St\"\n",
    "print(\"data type of the variable name = \",type(name))\n",
    "print(\"data type of the variable greeting = \",type(greeting))\n",
    "print(\"data type of the variable address = \",type(address))\n",
    "# slice only one element\n",
    "print(\"The first letter of the name is:\", name[0])\n",
    "print(\"The last letter of the name is:\", name[-1])\n",
    "# slice a range of elements\n",
    "print(\"The second letter to the fourth of the name is:\", name[1:4])\n",
    "print(\"The first two letters of the name are:\", name[:2])\n",
    "print(\"Substring starting from the third letter is:\", name[2:])"
   ]
  },
  {
   "cell_type": "code",
   "execution_count": 18,
   "id": "0bd1ba91-38f6-45a7-9d76-b419c5407f57",
   "metadata": {},
   "outputs": [
    {
     "data": {
      "text/plain": [
       "[False, 'Hello', True]"
      ]
     },
     "execution_count": 18,
     "metadata": {},
     "output_type": "execute_result"
    }
   ],
   "source": [
    "list1 = [1, 2, 3, 4]\n",
    "mixed_list = [12, \"Hello\", True]\n",
    "# List is mutable\n",
    "mixed_list[0] = False\n",
    "mixed_list"
   ]
  },
  {
   "cell_type": "code",
   "execution_count": 27,
   "id": "6b218345-3155-43de-b352-57c418b9bc3b",
   "metadata": {},
   "outputs": [
    {
     "name": "stdout",
     "output_type": "stream",
     "text": [
      "First element: red\n",
      "Last two elements: ('yellow', 'blue')\n",
      "Middle two elements: ('green', 'yellow')\n"
     ]
    },
    {
     "data": {
      "text/plain": [
       "('red', 'green', 'yellow', 'blue')"
      ]
     },
     "execution_count": 27,
     "metadata": {},
     "output_type": "execute_result"
    }
   ],
   "source": [
    "colors = (\"red\", \"green\", \"yellow\", \"blue\")\n",
    "print(\"First element:\", colors[0])\n",
    "print(\"Last two elements:\", colors[2:])\n",
    "print(\"Middle two elements:\", colors[1:3])\n",
    "# colors[0] = \"purple\"\n",
    "colors # will generate an error as tuple is immutable."
   ]
  },
  {
   "cell_type": "code",
   "execution_count": 39,
   "id": "d6de0276-5109-4f5a-a00d-57f5520e9916",
   "metadata": {},
   "outputs": [
    {
     "name": "stdout",
     "output_type": "stream",
     "text": [
      "Hello my name is John. I am 30 years old and I live at Pittsburgh.\n",
      "All keys: ['name', 'age', 'city']\n",
      "All values: ['John', 30, 'Pittsburgh']\n"
     ]
    }
   ],
   "source": [
    "person = {\"name\":\"John\",\"age\":30,\"city\":\"Pittsburgh\"}\n",
    "print(f\"Hello my name is {person['name']}. I am {person['age']} years old and I live at {person['city']}.\")\n",
    "print(\"All keys:\", list(person.keys()))\n",
    "print(\"All values:\", list(person.values()))"
   ]
  },
  {
   "cell_type": "code",
   "execution_count": 42,
   "id": "da152f7e-ac65-4e11-9351-402da45b0cdd",
   "metadata": {},
   "outputs": [
    {
     "name": "stdout",
     "output_type": "stream",
     "text": [
      "{1, 2, 3, 4, 5}\n"
     ]
    }
   ],
   "source": [
    "unique_numbers = {1,2,3,3,3,3,4,5}\n",
    "print(unique_numbers)"
   ]
  },
  {
   "cell_type": "code",
   "execution_count": 43,
   "id": "58988524-8ac8-43dd-9ea2-25ea83a1d31d",
   "metadata": {},
   "outputs": [
    {
     "name": "stdout",
     "output_type": "stream",
     "text": [
      "data type of the variable is_student =  <class 'bool'>\n",
      "data type of the variable has_license =  <class 'bool'>\n"
     ]
    }
   ],
   "source": [
    "is_student = True\n",
    "has_license = False\n",
    "print(\"data type of the variable is_student = \",type(is_student))\n",
    "print(\"data type of the variable has_license = \",type(has_license))"
   ]
  },
  {
   "cell_type": "code",
   "execution_count": 49,
   "id": "b479b1ef-0c95-4c58-9b60-7415a98a907c",
   "metadata": {},
   "outputs": [
    {
     "name": "stdout",
     "output_type": "stream",
     "text": [
      "None\n"
     ]
    }
   ],
   "source": [
    "result = None\n",
    "print(result)"
   ]
  },
  {
   "cell_type": "code",
   "execution_count": 56,
   "id": "f0a16f9f-cfb6-4270-bd0f-775255dc8795",
   "metadata": {},
   "outputs": [
    {
     "data": {
      "text/plain": [
       "5"
      ]
     },
     "execution_count": 56,
     "metadata": {},
     "output_type": "execute_result"
    }
   ],
   "source": [
    "x= 10\n",
    "x = 5\n",
    "x"
   ]
  },
  {
   "cell_type": "code",
   "execution_count": 66,
   "id": "9bdef907-6276-401c-b250-416d51e1ec99",
   "metadata": {},
   "outputs": [
    {
     "name": "stdout",
     "output_type": "stream",
     "text": [
      "apple\n",
      "banana\n",
      "cherry\n",
      "Count is: 0\n",
      "Count is: 1\n",
      "Count is: 2\n",
      "Count is: 3\n",
      "Count is: 4\n",
      "loop 1\n",
      "apple\n",
      "loop 2\n",
      "banana\n",
      "orange\n"
     ]
    }
   ],
   "source": [
    "# for loop:\n",
    "fruits = [\"apple\", \"banana\",\"cherry\"]\n",
    "for fruit in fruits:\n",
    "    print(fruit)\n",
    "# While loop:\n",
    "count = 0\n",
    "while count < 5:\n",
    "    print(\"Count is:\", count)\n",
    "    count += 1\n",
    "# Break\n",
    "fruits = [\"apple\", \"banana\", \"orange\"]\n",
    "print(\"loop 1\")\n",
    "for fruit in fruits:\n",
    "    print(fruit)\n",
    "    if fruit == \"apple\":\n",
    "        break\n",
    "# Continiue\n",
    "print(\"loop 2\")\n",
    "for fruit in fruits:\n",
    "    if fruit == \"apple\":\n",
    "        continue\n",
    "    else:\n",
    "        print(fruit)"
   ]
  },
  {
   "cell_type": "code",
   "execution_count": 72,
   "id": "b2efb411-b96a-46dc-87b9-06c2bac0ce5a",
   "metadata": {},
   "outputs": [],
   "source": [
    "def add_binary(a, b):\n",
    "    \"\"\"\n",
    "    Returns the sum of two decimal numbers in binary digits.\n",
    "    Parameters:\n",
    "    a (int): A decimal integer\n",
    "    b (int): Another decimal integer\n",
    "    Returns:\n",
    "    binary_sum (str): Binary string of the sum of a and b\n",
    "    \"\"\"\n",
    "    binary_sum = bin(a+b)[2:]"
   ]
  },
  {
   "cell_type": "code",
   "execution_count": 74,
   "id": "c8772d50-f075-41ba-8cc5-9eea7f155fa9",
   "metadata": {},
   "outputs": [],
   "source": [
    "# str.upper(): Converts all characters in a string to uppercase.\n",
    "message = \"hello\".upper() # Output: \"HELLO\"\n",
    "# list.append(): Adds an element to the end of a list.\n",
    "fruits = [\"apple\", \"banana\"]\n",
    "fruits.append(\"cherry\") # Output: [\"apple\", \"banana\", \"cherry\"]\n",
    "# dict.get(): Returns the value associated with a key in a dictionary.\n",
    "info = {\"name\": \"Alice\", \"age\": 25}\n",
    "age = info.get(\"age\") # Output: 25"
   ]
  },
  {
   "cell_type": "code",
   "execution_count": 80,
   "id": "cbce4128-9003-48ef-a7c6-08edd2d0c6a5",
   "metadata": {},
   "outputs": [
    {
     "name": "stdout",
     "output_type": "stream",
     "text": [
      "20\n"
     ]
    }
   ],
   "source": [
    "x = 10 # Global variable\n",
    "def modify_global():\n",
    "    global x # Declaring x as global\n",
    "    x = 20 # Modifying global x\n",
    "modify_global()\n",
    "print(x) # Output: 20"
   ]
  },
  {
   "cell_type": "markdown",
   "id": "989dd6ad-283a-4f1f-886a-d9a936d28b46",
   "metadata": {},
   "source": [
    "# Tasks"
   ]
  },
  {
   "cell_type": "code",
   "execution_count": 3,
   "id": "319090ea-9a65-401f-9278-dd9d87bc21ce",
   "metadata": {},
   "outputs": [
    {
     "name": "stdout",
     "output_type": "stream",
     "text": [
      "[8.2, 17.4, 14.1, 7.9, 18.0, 13.5, 9.0, 17.8, 13.0, 8.5, 16.5, 12.9, 7.7, 17.2, 13.3, 8.4, 16.7, 14.0, 9.5, 18.3, 13.4, 8.1, 17.9, 14.2, 7.6, 17.0, 12.8, 8.0, 16.8, 13.7, 7.8, 17.5, 13.6, 8.7, 17.1, 13.8, 9.2, 18.1, 13.9, 8.3, 16.4, 12.7, 8.9, 18.2, 13.1, 7.8, 16.6, 12.5]\n"
     ]
    }
   ],
   "source": [
    "temperatures = [8.2, 17.4, 14.1, 7.9, 18.0, 13.5, 9.0, 17.8, 13.0, 8.5,\n",
    "16.5, 12.9, 7.7, 17.2, 13.3, 8.4, 16.7, 14.0, 9.5, 18.3, 13.4, 8.1,\n",
    "17.9, 14.2, 7.6, 17.0, 12.8, 8.0, 16.8, 13.7, 7.8, 17.5, 13.6, 8.7,\n",
    "17.1, 13.8, 9.2, 18.1, 13.9, 8.3, 16.4, 12.7, 8.9, 18.2, 13.1, 7.8,\n",
    "16.6, 12.5]\n",
    "print(temperatures)"
   ]
  },
  {
   "cell_type": "markdown",
   "id": "9b5ab9f0-f355-4c1e-8e22-eb6c59cecda4",
   "metadata": {
    "jp-MarkdownHeadingCollapsed": true
   },
   "source": [
    "## Task 1"
   ]
  },
  {
   "cell_type": "code",
   "execution_count": 117,
   "id": "b1996934-d911-4692-9d51-04b9cdbe86ef",
   "metadata": {},
   "outputs": [
    {
     "name": "stdout",
     "output_type": "stream",
     "text": [
      "[8.2, 7.9, 9.0, 8.5, 7.7, 8.4, 9.5, 8.1, 7.6, 8.0, 7.8, 8.7, 9.2, 8.3, 8.9, 7.8]\n",
      "[14.1, 13.5, 13.0, 12.9, 13.3, 14.0, 13.4, 14.2, 12.8, 13.7, 13.6, 13.8, 13.9, 12.7, 13.1, 12.5]\n",
      "[17.4, 18.0, 17.8, 16.5, 17.2, 16.7, 18.3, 17.9, 17.0, 16.8, 17.5, 17.1, 18.1, 16.4, 18.2, 16.6]\n"
     ]
    }
   ],
   "source": [
    "# 1. Create empty lists for temperature classifications:\n",
    "# (a) Cold: temperatures below 10°C.\n",
    "# (b) Mild: temperatures between 10°C and 15°C.\n",
    "# (c) Comfortable: temperatures between 15°C and 20°C.\n",
    "\n",
    "cold = []\n",
    "mild = []\n",
    "confortable = []\n",
    "\n",
    "for temp in temperatures:\n",
    "    if(temp < 10):\n",
    "        cold.append(temp)\n",
    "        \n",
    "    elif(temp >= 10 and temp < 15):\n",
    "        mild.append(temp)\n",
    "        \n",
    "    else:\n",
    "        confortable.append(temp)\n",
    "        \n",
    "\n",
    "print(cold)\n",
    "print(mild)\n",
    "print(confortable)\n",
    "\n",
    "\n",
    "    "
   ]
  },
  {
   "cell_type": "markdown",
   "id": "d85d01c4-3335-4ba5-ae61-f5a400ee7041",
   "metadata": {
    "jp-MarkdownHeadingCollapsed": true
   },
   "source": [
    "## Task 2"
   ]
  },
  {
   "cell_type": "code",
   "execution_count": 119,
   "id": "ab37d0da-313b-4aed-b9d6-89c846bb3824",
   "metadata": {},
   "outputs": [
    {
     "name": "stdout",
     "output_type": "stream",
     "text": [
      "It was mild for 16 times\n",
      "It was cold for 16 times\n",
      "It was comfortable for 16 times\n"
     ]
    }
   ],
   "source": [
    "mild_count = len(mild)\n",
    "cold_count = len(cold)\n",
    "comfortable_count = len(confortable)\n",
    "print(f\"It was mild for {mild_count} times\")\n",
    "print(f\"It was cold for {cold_count} times\")\n",
    "print(f\"It was comfortable for {comfortable_count} times\")"
   ]
  },
  {
   "cell_type": "markdown",
   "id": "e43bf86e-06df-4cd8-9228-7266ea44739e",
   "metadata": {},
   "source": [
    "## Task 3"
   ]
  },
  {
   "cell_type": "code",
   "execution_count": 122,
   "id": "17d2e5c7-9842-480e-92d8-e0dc915e1a39",
   "metadata": {},
   "outputs": [
    {
     "name": "stdout",
     "output_type": "stream",
     "text": [
      "[46.76, 63.31999999999999, 57.379999999999995, 46.22, 64.4, 56.3, 48.2, 64.03999999999999, 55.400000000000006, 47.3, 61.7, 55.22, 45.86, 62.96, 55.94, 47.120000000000005, 62.06, 57.2, 49.1, 64.94, 56.120000000000005, 46.58, 64.22, 57.56, 45.68, 62.6, 55.040000000000006, 46.4, 62.24, 56.66, 46.04, 63.5, 56.480000000000004, 47.66, 62.78, 56.84, 48.56, 64.58000000000001, 57.019999999999996, 46.94, 61.519999999999996, 54.86, 48.019999999999996, 64.75999999999999, 55.58, 46.04, 61.88, 54.5]\n"
     ]
    }
   ],
   "source": [
    "processed_temperatures = []\n",
    "for temp in temperatures:\n",
    "    processed_temperatures.append(temp*(9/5)+32)\n",
    "print(processed_temperatures)\n"
   ]
  },
  {
   "cell_type": "markdown",
   "id": "7f21f2df-32a8-4b3a-a351-9493506c9297",
   "metadata": {},
   "source": [
    "## Task 4"
   ]
  },
  {
   "cell_type": "code",
   "execution_count": 11,
   "id": "0b2311e3-c2be-421a-bb5a-bb323d3d0829",
   "metadata": {},
   "outputs": [
    {
     "name": "stdout",
     "output_type": "stream",
     "text": [
      "17.343750000000004\n"
     ]
    }
   ],
   "source": [
    "night = []\n",
    "evening = []\n",
    "day = []\n",
    "\n",
    "for temp in temperatures:\n",
    "    if(temp>=0 and temp < 8):\n",
    "        night.append(temp)\n",
    "    elif(temp >= 8 and temp < 16):\n",
    "        evening.append(temp)\n",
    "    else:\n",
    "        day.append(temp)\n",
    "\n",
    "\n",
    "sum = 0\n",
    "for temp in day:\n",
    "    sum+=temp\n",
    "\n",
    "print(f\"{sum/len(day)}\")\n",
    "    \n",
    "        "
   ]
  },
  {
   "cell_type": "code",
   "execution_count": 38,
   "id": "d0f2cf7d-a3a1-417e-a547-33e7e5d3adbf",
   "metadata": {},
   "outputs": [
    {
     "data": {
      "image/png": "[encoded data removed]",
      "text/plain": [
       "<Figure size 1000x500 with 1 Axes>"
      ]
     },
     "metadata": {},
     "output_type": "display_data"
    }
   ],
   "source": [
    "import matplotlib.pyplot as plt\n",
    "days = list(range(1, len(temperatures) + 1))\n",
    "\n",
    "\n",
    "plt.figure(figsize=(10, 5))\n",
    "plt.plot(days, temperatures, marker='o', linestyle='-', color='b', label='Temperature')\n",
    "\n",
    "\n",
    "\n",
    "\n",
    "# Labels and title\n",
    "plt.xlabel(\"Day\")\n",
    "plt.ylabel(\"Temperature (°C)\")\n",
    "plt.title(\"Day vs. Temperature\")\n",
    "plt.legend()\n",
    "\n",
    "\n",
    "# Show the plot\n",
    "plt.show()\n"
   ]
  }
 ],
 "metadata": {
  "kernelspec": {
   "display_name": "Python 3 (ipykernel)",
   "language": "python",
   "name": "python3"
  },
  "language_info": {
   "codemirror_mode": {
    "name": "ipython",
    "version": 3
   },
   "file_extension": ".py",
   "mimetype": "text/x-python",
   "name": "python",
   "nbconvert_exporter": "python",
   "pygments_lexer": "ipython3",
   "version": "3.11.1"
  }
 },
 "nbformat": 4,
 "nbformat_minor": 5
}
